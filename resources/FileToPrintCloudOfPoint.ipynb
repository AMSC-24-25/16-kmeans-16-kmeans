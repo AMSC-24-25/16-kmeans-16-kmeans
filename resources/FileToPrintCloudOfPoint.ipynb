{
  "nbformat": 4,
  "nbformat_minor": 0,
  "metadata": {
    "colab": {
      "provenance": [],
      "gpuType": "T4"
    },
    "kernelspec": {
      "name": "python3",
      "display_name": "Python 3"
    },
    "language_info": {
      "name": "python"
    },
    "accelerator": "GPU"
  },
  "cells": [
    {
      "cell_type": "code",
      "source": [
        "import pandas as pd # import the pandas library and alias it as 'pd'\n",
        "from google.colab import files\n",
        "import plotly.graph_objects as go\n",
        "from google.colab import files\n",
        "from google.colab import drive\n",
        "drive.mount('/gdrive')\n",
        "def visualize_labeled_points(file_path, file_path2, output_html):\n",
        "    # Leggi i dati dal file CSV\n",
        "    data = pd.read_csv(file_path)\n",
        "    data2 = pd.read_csv(file_path2)\n",
        "\n",
        "    # Crea un grafico 3D con i punti\n",
        "    fig = go.Figure(data=[go.Scatter3d(\n",
        "        x=data['x'],\n",
        "        y=data['y'],\n",
        "        z=data['z'],\n",
        "        mode='markers+text',  # Mostra sia i punti che il testo\n",
        "        marker=dict(\n",
        "            size=2,\n",
        "            color='green',  # Colore basato sulla coordinata Z\n",
        "            colorscale='Viridis',\n",
        "            opacity=0.8\n",
        "        ),\n",
        "        textposition=\"top center\"  # Posizione del testo rispetto al punto\n",
        "    ),\n",
        "      go.Scatter3d(  # Trace for the second file\n",
        "        x=data2['x'],\n",
        "        y=data2['y'],\n",
        "        z=data2['z'],\n",
        "        mode='markers+text',\n",
        "        marker=dict(\n",
        "            size=5,\n",
        "            color='red',  # Color for the second file's points\n",
        "            opacity=0.5\n",
        "        ),\n",
        "        text=data2['label'],\n",
        "        textposition=\"top center\"\n",
        "    )])\n",
        "\n",
        "    # Layout del grafico\n",
        "    fig.update_layout(\n",
        "        scene=dict(\n",
        "            aspectmode='data'\n",
        "        ),\n",
        "        title=\"Point Cloud 3D con Etichette\",\n",
        "        template=\"plotly_white\"\n",
        "    )\n",
        "\n",
        "    # Salva il grafico in un file HTML\n",
        "    fig.write_html(output_html)\n",
        "    print(f\"File HTML salvato: {output_html}\")\n",
        "    fig.write_html('completeMesh1.html', include_plotlyjs='cdn')\n",
        "    files.download('completeMesh1.html')\n",
        "\n",
        "\n",
        "# Specifica il percorso del file CSV esportato dal C++\n",
        "file_path = '/gdrive/My Drive/Colab Notebooks/mesh.csv'\n",
        "output_html = '/gdrive/My Drive/Colab Notebooks/completeMesh1.html'\n",
        "file_path2 = '/gdrive/My Drive/Colab Notebooks/localMaxima.csv'\n",
        "\n",
        "# Visualizza il grafico e salva in HTML\n",
        "visualize_labeled_points(file_path,file_path2, output_html)\n",
        "\n",
        "\n",
        "from IPython.display import IFrame\n",
        "\n",
        "# Visualizza il file HTML generato\n",
        "file_path = '/gdrive/My Drive/Colab Notebooks/completeMesh1.html'\n",
        "IFrame(src=file_path, width=1000, height=600)\n",
        "\n"
      ],
      "metadata": {
        "id": "tdHqM5yNzJUR",
        "outputId": "de9780d9-274e-4c5e-9bb5-4e4040e83e70",
        "colab": {
          "base_uri": "https://localhost:8080/",
          "height": 657
        }
      },
      "execution_count": 1,
      "outputs": [
        {
          "output_type": "stream",
          "name": "stdout",
          "text": [
            "Mounted at /gdrive\n",
            "File HTML salvato: /gdrive/My Drive/Colab Notebooks/completeMesh1.html\n"
          ]
        },
        {
          "output_type": "display_data",
          "data": {
            "text/plain": [
              "<IPython.core.display.Javascript object>"
            ],
            "application/javascript": [
              "\n",
              "    async function download(id, filename, size) {\n",
              "      if (!google.colab.kernel.accessAllowed) {\n",
              "        return;\n",
              "      }\n",
              "      const div = document.createElement('div');\n",
              "      const label = document.createElement('label');\n",
              "      label.textContent = `Downloading \"${filename}\": `;\n",
              "      div.appendChild(label);\n",
              "      const progress = document.createElement('progress');\n",
              "      progress.max = size;\n",
              "      div.appendChild(progress);\n",
              "      document.body.appendChild(div);\n",
              "\n",
              "      const buffers = [];\n",
              "      let downloaded = 0;\n",
              "\n",
              "      const channel = await google.colab.kernel.comms.open(id);\n",
              "      // Send a message to notify the kernel that we're ready.\n",
              "      channel.send({})\n",
              "\n",
              "      for await (const message of channel.messages) {\n",
              "        // Send a message to notify the kernel that we're ready.\n",
              "        channel.send({})\n",
              "        if (message.buffers) {\n",
              "          for (const buffer of message.buffers) {\n",
              "            buffers.push(buffer);\n",
              "            downloaded += buffer.byteLength;\n",
              "            progress.value = downloaded;\n",
              "          }\n",
              "        }\n",
              "      }\n",
              "      const blob = new Blob(buffers, {type: 'application/binary'});\n",
              "      const a = document.createElement('a');\n",
              "      a.href = window.URL.createObjectURL(blob);\n",
              "      a.download = filename;\n",
              "      div.appendChild(a);\n",
              "      a.click();\n",
              "      div.remove();\n",
              "    }\n",
              "  "
            ]
          },
          "metadata": {}
        },
        {
          "output_type": "display_data",
          "data": {
            "text/plain": [
              "<IPython.core.display.Javascript object>"
            ],
            "application/javascript": [
              "download(\"download_b6313fc8-3ac5-492b-98e5-8201bdb9ed00\", \"completeMesh1.html\", 188438)"
            ]
          },
          "metadata": {}
        },
        {
          "output_type": "execute_result",
          "data": {
            "text/plain": [
              "<IPython.lib.display.IFrame at 0x7c4cd09274d0>"
            ],
            "text/html": [
              "\n",
              "        <iframe\n",
              "            width=\"1000\"\n",
              "            height=\"600\"\n",
              "            src=\"/gdrive/My Drive/Colab Notebooks/completeMesh1.html\"\n",
              "            frameborder=\"0\"\n",
              "            allowfullscreen\n",
              "            \n",
              "        ></iframe>\n",
              "        "
            ]
          },
          "metadata": {},
          "execution_count": 1
        }
      ]
    }
  ]
}